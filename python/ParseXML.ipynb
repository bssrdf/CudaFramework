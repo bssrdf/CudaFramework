{
 "metadata": {
  "name": "",
  "signature": "sha256:63d6878a3b21a827baf38df864ee44b651d3698628773e76d20e36a5c8488257"
 },
 "nbformat": 3,
 "nbformat_minor": 0,
 "worksheets": [
  {
   "cells": [
    {
     "cell_type": "markdown",
     "metadata": {},
     "source": [
      "Parsing Performace Test XML\n",
      "==="
     ]
    },
    {
     "cell_type": "code",
     "collapsed": false,
     "input": [
      "from PerformanceTestXMLParser import *;\n",
      "\n",
      "desc,data,columnNames = parsePerformanceXML(\"SorProxVariant1DProx.xml\")\n",
      "\n",
      "print(\"---> Descriptions Keys: \", desc.keys())\n",
      "print(\"---> DataTable Column Identifiers: \" , columnNames)\n",
      "print(\"---> nContacts\", data['nContacts'])"
     ],
     "language": "python",
     "metadata": {},
     "outputs": [
      {
       "output_type": "stream",
       "stream": "stdout",
       "text": [
        "Parsing Performance Test File:  SorProxVariant1DProx.xml\n",
        "File Info: 12 descriptions , 14 columns in data table\n",
        "---> Descriptions Keys:  dict_keys(['MatchCPUGPU', 'ProxIterationType', 'TotalTestProblemsPerContactSize', 'VariantSettings', 'Remarks', 'VariantDescription', 'TotalProxIterations', 'VariantID', 'VariantName', 'GPUInfos', 'Precision', 'ConvexSet'])\n",
        "---> DataTable Column Identifiers:  ['nContacts', 'nFlop', 'GFlops', 'Memory Bandwith', 'elapsedTimeCopyToGPU_Avg', 'gpuIterationTime_Avg', 'elapsedTimeCopyFromGPU_Avg', 'cpuIterationTime_Avg', 'nIterationsForTradeoff', 'speedUpFactor', 'maxRelTol_Avg', 'avgRelTol_Avg', 'maxUlp_Avg', 'avgUlp_Avg']\n",
        "---> nContacts [ 2000.  2020.  2040.]\n"
       ]
      }
     ],
     "prompt_number": 1
    }
   ],
   "metadata": {}
  }
 ]
}